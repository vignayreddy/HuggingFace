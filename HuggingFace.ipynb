{
  "nbformat": 4,
  "nbformat_minor": 0,
  "metadata": {
    "colab": {
      "provenance": []
    },
    "kernelspec": {
      "name": "python3",
      "display_name": "Python 3"
    },
    "language_info": {
      "name": "python"
    }
  },
  "cells": [
    {
      "cell_type": "markdown",
      "source": [
        "## Install the Transformers, Datasets, and Evaluate libraries to run this notebook."
      ],
      "metadata": {
        "id": "JdzD4TDSqJAM"
      }
    },
    {
      "cell_type": "markdown",
      "source": [
        "\n",
        "logging.set_verbosity_error() is used beacuse it tells what model it have used by default i have removed it u can use it or give our own model so that no error was raised"
      ],
      "metadata": {
        "id": "4f0zNkye-vo2"
      }
    },
    {
      "cell_type": "code",
      "execution_count": null,
      "metadata": {
        "id": "GB91r-fsnv2_"
      },
      "outputs": [],
      "source": [
        "!pip install datasets evaluate transformers[sentencepiece]"
      ]
    },
    {
      "cell_type": "code",
      "source": [
        "from huggingface_hub import notebook_login\n",
        "notebook_login()"
      ],
      "metadata": {
        "id": "TbbuQqYHobAS"
      },
      "execution_count": null,
      "outputs": []
    },
    {
      "cell_type": "code",
      "source": [
        "from transformers import pipeline,logging\n"
      ],
      "metadata": {
        "id": "mBVL2qLzo2lo"
      },
      "execution_count": 14,
      "outputs": []
    },
    {
      "cell_type": "code",
      "source": [
        "generator = pipeline(\"text-generation\")\n",
        "ans=generator(\"Lets learn something new\",max_length=30)\n",
        "logging.set_verbosity_error()\n",
        "ans[0][\"generated_text\"][:100]"
      ],
      "metadata": {
        "colab": {
          "base_uri": "https://localhost:8080/",
          "height": 36
        },
        "id": "s2XUb-v5-df6",
        "outputId": "7e7173bb-94b9-42db-f64e-4add880ad5ec"
      },
      "execution_count": 30,
      "outputs": [
        {
          "output_type": "execute_result",
          "data": {
            "text/plain": [
              "\"Lets learn something new about the game's mechanics.\\n\\nPlayers will take on the role of an ancient al\""
            ],
            "application/vnd.google.colaboratory.intrinsic+json": {
              "type": "string"
            }
          },
          "metadata": {},
          "execution_count": 30
        }
      ]
    },
    {
      "cell_type": "code",
      "source": [
        "classifier = pipeline(\"sentiment-analysis\")\n",
        "logging.set_verbosity_error()\n",
        "ans = classifier(\"I've been waiting for a HuggingFace course my whole life.\")\n",
        "ans"
      ],
      "metadata": {
        "colab": {
          "base_uri": "https://localhost:8080/"
        },
        "id": "CaIWNPrmn_J-",
        "outputId": "8324d622-1662-416e-e458-8dbbb94ce595"
      },
      "execution_count": 16,
      "outputs": [
        {
          "output_type": "execute_result",
          "data": {
            "text/plain": [
              "[{'label': 'POSITIVE', 'score': 0.9598049521446228}]"
            ]
          },
          "metadata": {},
          "execution_count": 16
        }
      ]
    },
    {
      "cell_type": "code",
      "source": [
        "classifier = pipeline(\"zero-shot-classification\")\n",
        "ans = classifier(\n",
        "    \"This is a course not  about the Transformers library\",\n",
        "    candidate_labels=[\"education\", \"politics\", \"business\"],\n",
        ")\n",
        "logging.set_verbosity_error()\n",
        "ans"
      ],
      "metadata": {
        "colab": {
          "base_uri": "https://localhost:8080/"
        },
        "id": "izgqTeLiq7O6",
        "outputId": "d20cee93-702d-404d-b0ff-fe4dfb31af14"
      },
      "execution_count": 20,
      "outputs": [
        {
          "output_type": "execute_result",
          "data": {
            "text/plain": [
              "{'sequence': 'This is a course not  about the Transformers library',\n",
              " 'labels': ['education', 'business', 'politics'],\n",
              " 'scores': [0.5885071754455566, 0.32650691270828247, 0.08498593419790268]}"
            ]
          },
          "metadata": {},
          "execution_count": 20
        }
      ]
    },
    {
      "cell_type": "code",
      "source": [
        "unmask = pipeline(\"fill-mask\")\n",
        "ans=unmask(\"You are a <mask> Person\",top_k=2)\n",
        "logging.set_verbosity_error()\n",
        "ans"
      ],
      "metadata": {
        "colab": {
          "base_uri": "https://localhost:8080/"
        },
        "id": "JUmfJ-gR-dtt",
        "outputId": "cdb30c9d-3cae-42cf-c8ed-4f144df2712d"
      },
      "execution_count": 34,
      "outputs": [
        {
          "output_type": "execute_result",
          "data": {
            "text/plain": [
              "[{'score': 0.10682491213083267,\n",
              "  'token': 2822,\n",
              "  'token_str': ' Real',\n",
              "  'sequence': 'You are a Real Person'},\n",
              " {'score': 0.07431638240814209,\n",
              "  'token': 26411,\n",
              "  'token_str': ' Normal',\n",
              "  'sequence': 'You are a Normal Person'}]"
            ]
          },
          "metadata": {},
          "execution_count": 34
        }
      ]
    },
    {
      "cell_type": "markdown",
      "source": [
        "Named entity recognition (NER)\n",
        "\n",
        "\n",
        "```\n",
        "# PER(PERSON),ORG (ORGANIZATION),LOC (LOCATION) ,MISC (MISCELLANEOUS)\n",
        "```\n",
        "\n"
      ],
      "metadata": {
        "id": "5qL8xDDTDHfD"
      }
    },
    {
      "cell_type": "markdown",
      "source": [],
      "metadata": {
        "id": "WZiX2E2fEVn-"
      }
    },
    {
      "cell_type": "code",
      "source": [
        "ner = pipeline(\"ner\",grouped_entities=True)\n",
        "logging.set_verbosity_error()\n",
        "ans=ner(\"I am vignay reddy from Jagityal studying at CVR COLLEGE OF ENGINEERING\")\n",
        "ans"
      ],
      "metadata": {
        "colab": {
          "base_uri": "https://localhost:8080/"
        },
        "id": "r0nEeMbx-dvo",
        "outputId": "31b1047d-0077-48d9-967c-4feb6c5b419a"
      },
      "execution_count": 36,
      "outputs": [
        {
          "output_type": "stream",
          "name": "stderr",
          "text": [
            "/usr/local/lib/python3.11/dist-packages/transformers/pipelines/token_classification.py:181: UserWarning: `grouped_entities` is deprecated and will be removed in version v5.0.0, defaulted to `aggregation_strategy=\"AggregationStrategy.SIMPLE\"` instead.\n",
            "  warnings.warn(\n"
          ]
        },
        {
          "output_type": "execute_result",
          "data": {
            "text/plain": [
              "[{'entity_group': 'LOC',\n",
              "  'score': np.float32(0.9267577),\n",
              "  'word': 'Jagityal',\n",
              "  'start': 23,\n",
              "  'end': 31},\n",
              " {'entity_group': 'ORG',\n",
              "  'score': np.float32(0.48203757),\n",
              "  'word': 'C',\n",
              "  'start': 44,\n",
              "  'end': 45},\n",
              " {'entity_group': 'MISC',\n",
              "  'score': np.float32(0.7350932),\n",
              "  'word': 'ENGINEERING',\n",
              "  'start': 59,\n",
              "  'end': 70}]"
            ]
          },
          "metadata": {},
          "execution_count": 36
        }
      ]
    },
    {
      "cell_type": "code",
      "source": [
        "qw = pipeline(\"question-answering\")\n",
        "ans= qw(\n",
        "    question=\"Where do I work?\",\n",
        "    context=\"My name is Sylvain and I work at Hugging Face in Brooklyn\",\n",
        ")\n",
        "logging.set_verbosity_error()\n",
        "ans"
      ],
      "metadata": {
        "colab": {
          "base_uri": "https://localhost:8080/"
        },
        "id": "IX9Px1aI-d9x",
        "outputId": "c26ea9bb-455f-4f8c-b130-1897540aac08"
      },
      "execution_count": 53,
      "outputs": [
        {
          "output_type": "execute_result",
          "data": {
            "text/plain": [
              "{'score': 0.6949766278266907, 'start': 33, 'end': 45, 'answer': 'Hugging Face'}"
            ]
          },
          "metadata": {},
          "execution_count": 53
        }
      ]
    },
    {
      "cell_type": "code",
      "source": [
        "summarizer = pipeline(\"summarization\")\n",
        "ans=summarizer(\n",
        "    \"\"\"Nitish was bought by Sunrisers Hyderabad for Rs. 20 Lakh,\n",
        " in the 2023 Indian Premier League auction. He played just 2 matches in the league where he bowled a few overs but did not get to bat.[9] He had a breakout performance in the 2024 season,\n",
        "  where he won the Emerging Player of the Year Award by scoring 303 runs with strike rate of 142 with crucial knocks against Punjab Kings and Rajasthan Royals and also picked\n",
        "  up 3 wickets in the tournament showcasing\n",
        "   his immense talent and consistency throughout the tournament. He was subsequently retained by SRH in the 2025 IPL Auction for Rs. 6 Crores.\n",
        "   \"\"\")\n",
        "ans[0][\"summary_text\"]"
      ],
      "metadata": {
        "id": "Pfrz_6r-DvrB"
      },
      "execution_count": null,
      "outputs": []
    },
    {
      "cell_type": "markdown",
      "source": [
        " BERT stands for Bidirectional Encoder Representations from Transformers."
      ],
      "metadata": {
        "id": "9EDsL7iuLRal"
      }
    },
    {
      "cell_type": "code",
      "source": [
        "#Pretraining is the act of training a model from scratch: the weights are randomly initialized, and the training starts without any prior knowledge."
      ],
      "metadata": {
        "id": "ZQYcpEA-MP2j"
      },
      "execution_count": null,
      "outputs": []
    },
    {
      "cell_type": "code",
      "source": [],
      "metadata": {
        "id": "KYdY0F7fiYHZ"
      },
      "execution_count": null,
      "outputs": []
    }
  ]
}